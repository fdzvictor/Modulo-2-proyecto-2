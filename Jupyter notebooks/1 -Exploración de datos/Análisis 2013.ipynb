{
 "cells": [
  {
   "cell_type": "code",
   "execution_count": 14,
   "metadata": {},
   "outputs": [],
   "source": [
    "import pandas as pd\n",
    "import os \n",
    "import re"
   ]
  },
  {
   "cell_type": "code",
   "execution_count": 23,
   "metadata": {},
   "outputs": [
    {
     "name": "stdout",
     "output_type": "stream",
     "text": [
      "['datos-2013.csv', 'datos-2014.csv', 'datos-2015.csv', 'datos-2016.csv', 'datos-2017.csv', 'datos-2018.csv', 'datos-2019.csv', 'datos-2020.csv', 'datos-2021.csv', 'diccionario_datos.csv']\n"
     ]
    },
    {
     "data": {
      "text/plain": [
       "'2014'"
      ]
     },
     "execution_count": 23,
     "metadata": {},
     "output_type": "execute_result"
    }
   ],
   "source": [
    "lista_archivos = os.listdir(\"../../datos\")\n",
    "print(lista_archivos)\n",
    "lista_archivos[1].split(\"-\")[1].split(\".\")[0]"
   ]
  },
  {
   "cell_type": "code",
   "execution_count": 3,
   "metadata": {},
   "outputs": [
    {
     "name": "stderr",
     "output_type": "stream",
     "text": [
      "C:\\Users\\Víctor\\AppData\\Local\\Temp\\ipykernel_14216\\2425767347.py:1: UserWarning: Parsing dates in %d/%m/%Y format when dayfirst=False (the default) was specified. Pass `dayfirst=True` or specify a format to silence this warning.\n",
      "  df_2013 = pd.read_csv(\"../../datos\\datos-2013.csv\",delimiter = \";\",parse_dates = [\"DATA LANÇAMENTO\"])\n"
     ]
    },
    {
     "data": {
      "text/plain": [
       "Index(['CÓDIGO ÓRGÃO SUPERIOR', 'NOME ÓRGÃO SUPERIOR', 'CÓDIGO ÓRGÃO',\n",
       "       'NOME ÓRGÃO', 'CÓDIGO UNIDADE GESTORA', 'NOME UNIDADE GESTORA',\n",
       "       'CATEGORIA ECONÔMICA', 'ORIGEM RECEITA', 'ESPÉCIE RECEITA',\n",
       "       'DETALHAMENTO', 'VALOR PREVISTO ATUALIZADO', 'VALOR LANÇADO',\n",
       "       'VALOR REALIZADO', 'PERCENTUAL REALIZADO', 'DATA LANÇAMENTO',\n",
       "       'ANO EXERCÍCIO'],\n",
       "      dtype='object')"
      ]
     },
     "execution_count": 3,
     "metadata": {},
     "output_type": "execute_result"
    }
   ],
   "source": [
    "df_2013 = pd.read_csv(\"../../datos\\datos-2013.csv\",delimiter = \";\",parse_dates = [\"DATA LANÇAMENTO\"])\n",
    "df_2013.columns"
   ]
  },
  {
   "cell_type": "code",
   "execution_count": 4,
   "metadata": {},
   "outputs": [
    {
     "data": {
      "text/plain": [
       "Index(['CÓDIGO ÓRGÃO SUPERIOR', 'NOME ÓRGÃO SUPERIOR', 'CÓDIGO ÓRGÃO',\n",
       "       'NOME ÓRGÃO', 'CÓDIGO UNIDADE GESTORA', 'NOME UNIDADE GESTORA',\n",
       "       'CATEGORIA ECONÔMICA', 'ORIGEM RECEITA', 'ESPÉCIE RECEITA',\n",
       "       'DETALHAMENTO', 'VALOR PREVISTO ATUALIZADO', 'VALOR LANÇADO',\n",
       "       'VALOR REALIZADO', 'PERCENTUAL REALIZADO', 'DATA LANÇAMENTO',\n",
       "       'ANO EXERCÍCIO'],\n",
       "      dtype='object')"
      ]
     },
     "execution_count": 4,
     "metadata": {},
     "output_type": "execute_result"
    }
   ],
   "source": [
    "df_2013.columns"
   ]
  },
  {
   "cell_type": "markdown",
   "metadata": {},
   "source": [
    "Porcentaje recaudado tiene u 50% de ceros, para un futuro, codigo de ud gestora y de organo\n"
   ]
  },
  {
   "cell_type": "code",
   "execution_count": 5,
   "metadata": {},
   "outputs": [],
   "source": [
    "nuevas_columnas = {i : i.lower() for i in df_2013.columns}\n",
    "df_2013.rename(nuevas_columnas, inplace= True, axis = 1) "
   ]
  },
  {
   "cell_type": "code",
   "execution_count": 6,
   "metadata": {},
   "outputs": [],
   "source": [
    "cambio_nombre_columnas = {\n",
    "    'código órgão superior':'codigo_entidad',\n",
    "    'nome órgão superior':'nombre_entidad',\n",
    "    'código órgão':'codigo_especifica',\n",
    "    'nome órgão':'nombre_entidad_especifica',\n",
    "    'código unidade gestora':'codigo_unidad_gestora',\n",
    "    'nome unidade gestora':'nombre_unidad_gestora',\n",
    "    'categoria econômica':'clasificacion_ingresos',\n",
    "    'origem receita':'fuente_ingreso',\n",
    "    'espécie receita':'tipo_ingreso',\n",
    "    'detalhamento':'detalle_ingreso',\n",
    "    'valor previsto atualizado':'monto_previsto_actualizado',\n",
    "    'valor lançado':'monto_lanzado',\n",
    "    'valor realizado':'monto_recaudado',\n",
    "    'percentual realizado':'porcentaje_recaudado',\n",
    "    'data lançamento':'fecha_lanzamiento',\n",
    "    'ano exercício':'anio_ejercicio'\n",
    "}\n"
   ]
  },
  {
   "cell_type": "code",
   "execution_count": 7,
   "metadata": {},
   "outputs": [
    {
     "data": {
      "text/html": [
       "<div>\n",
       "<style scoped>\n",
       "    .dataframe tbody tr th:only-of-type {\n",
       "        vertical-align: middle;\n",
       "    }\n",
       "\n",
       "    .dataframe tbody tr th {\n",
       "        vertical-align: top;\n",
       "    }\n",
       "\n",
       "    .dataframe thead th {\n",
       "        text-align: right;\n",
       "    }\n",
       "</style>\n",
       "<table border=\"1\" class=\"dataframe\">\n",
       "  <thead>\n",
       "    <tr style=\"text-align: right;\">\n",
       "      <th></th>\n",
       "      <th>codigo_entidad</th>\n",
       "      <th>nombre_entidad</th>\n",
       "      <th>codigo_especifica</th>\n",
       "      <th>nombre_entidad_especifica</th>\n",
       "      <th>codigo_unidad_gestora</th>\n",
       "      <th>nombre_unidad_gestora</th>\n",
       "      <th>clasificacion_ingresos</th>\n",
       "      <th>fuente_ingreso</th>\n",
       "      <th>tipo_ingreso</th>\n",
       "      <th>detalle_ingreso</th>\n",
       "      <th>monto_previsto_actualizado</th>\n",
       "      <th>monto_lanzado</th>\n",
       "      <th>monto_recaudado</th>\n",
       "      <th>porcentaje_recaudado</th>\n",
       "      <th>fecha_lanzamiento</th>\n",
       "      <th>anio_ejercicio</th>\n",
       "    </tr>\n",
       "  </thead>\n",
       "  <tbody>\n",
       "    <tr>\n",
       "      <th>0</th>\n",
       "      <td>63000.0</td>\n",
       "      <td>NaN</td>\n",
       "      <td>63000.0</td>\n",
       "      <td>Advocacia-Geral da União - Unidades com víncul...</td>\n",
       "      <td>110060.0</td>\n",
       "      <td>COORD. GERAL DE ORC. FIN. E ANAL. CONT. - AGU</td>\n",
       "      <td>Receitas Correntes</td>\n",
       "      <td>Outras Receitas Correntes</td>\n",
       "      <td>Bens, Direitos e Valores Incorporados ao Patr</td>\n",
       "      <td>REC.DIVIDA ATIVA NAO TRIBUTARIA DE OUTRAS REC</td>\n",
       "      <td>0,00</td>\n",
       "      <td>0,00</td>\n",
       "      <td>1297,13</td>\n",
       "      <td>0,00</td>\n",
       "      <td>2013-12-31</td>\n",
       "      <td>2013</td>\n",
       "    </tr>\n",
       "    <tr>\n",
       "      <th>1</th>\n",
       "      <td>63000.0</td>\n",
       "      <td>Advocacia-Geral da União</td>\n",
       "      <td>63000.0</td>\n",
       "      <td>Advocacia-Geral da União - Unidades com víncul...</td>\n",
       "      <td>110060.0</td>\n",
       "      <td>COORD. GERAL DE ORC. FIN. E ANAL. CONT. - AGU</td>\n",
       "      <td>Receitas Correntes</td>\n",
       "      <td>Outras Receitas Correntes</td>\n",
       "      <td>Indenizações, restituições e ressarcimentos</td>\n",
       "      <td>RECUPERACAO DE DESPESAS DE EXERC. ANTERIORES</td>\n",
       "      <td>0,00</td>\n",
       "      <td>0,00</td>\n",
       "      <td>26666621,42</td>\n",
       "      <td>0,00</td>\n",
       "      <td>2013-12-31</td>\n",
       "      <td>2013</td>\n",
       "    </tr>\n",
       "    <tr>\n",
       "      <th>2</th>\n",
       "      <td>63000.0</td>\n",
       "      <td>Advocacia-Geral da União</td>\n",
       "      <td>63000.0</td>\n",
       "      <td>Advocacia-Geral da União - Unidades com víncul...</td>\n",
       "      <td>110060.0</td>\n",
       "      <td>COORD. GERAL DE ORC. FIN. E ANAL. CONT. - AGU</td>\n",
       "      <td>Receitas Correntes</td>\n",
       "      <td>Outras Receitas Correntes</td>\n",
       "      <td>Multas administrativas, contratuais e judicia</td>\n",
       "      <td>OUTRAS MULTAS E JUROS DE MORA</td>\n",
       "      <td>0,00</td>\n",
       "      <td>0,00</td>\n",
       "      <td>301251,13</td>\n",
       "      <td>0,00</td>\n",
       "      <td>2013-12-31</td>\n",
       "      <td>2013</td>\n",
       "    </tr>\n",
       "    <tr>\n",
       "      <th>3</th>\n",
       "      <td>63000.0</td>\n",
       "      <td>NaN</td>\n",
       "      <td>63000.0</td>\n",
       "      <td>Advocacia-Geral da União - Unidades com víncul...</td>\n",
       "      <td>110060.0</td>\n",
       "      <td>COORD. GERAL DE ORC. FIN. E ANAL. CONT. - AGU</td>\n",
       "      <td>Receitas Correntes</td>\n",
       "      <td>Outras Receitas Correntes</td>\n",
       "      <td>Bens, Direitos e Valores Incorporados ao Patr</td>\n",
       "      <td>REC.DIV.ATIVA POR INFRAÇÃO ADMINISTRATIVA</td>\n",
       "      <td>0,00</td>\n",
       "      <td>0,00</td>\n",
       "      <td>1855,58</td>\n",
       "      <td>0,00</td>\n",
       "      <td>2013-12-31</td>\n",
       "      <td>2013</td>\n",
       "    </tr>\n",
       "    <tr>\n",
       "      <th>4</th>\n",
       "      <td>63000.0</td>\n",
       "      <td>Advocacia-Geral da União</td>\n",
       "      <td>63000.0</td>\n",
       "      <td>Advocacia-Geral da União - Unidades com víncul...</td>\n",
       "      <td>110060.0</td>\n",
       "      <td>COORD. GERAL DE ORC. FIN. E ANAL. CONT. - AGU</td>\n",
       "      <td>Receitas Correntes</td>\n",
       "      <td>Outras Receitas Correntes</td>\n",
       "      <td>Indenizações, restituições e ressarcimentos</td>\n",
       "      <td>OUTRAS RESTITUICOES</td>\n",
       "      <td>0,00</td>\n",
       "      <td>0,00</td>\n",
       "      <td>52140,68</td>\n",
       "      <td>0,00</td>\n",
       "      <td>2013-12-31</td>\n",
       "      <td>2013</td>\n",
       "    </tr>\n",
       "  </tbody>\n",
       "</table>\n",
       "</div>"
      ],
      "text/plain": [
       "   codigo_entidad            nombre_entidad  codigo_especifica  \\\n",
       "0         63000.0                       NaN            63000.0   \n",
       "1         63000.0  Advocacia-Geral da União            63000.0   \n",
       "2         63000.0  Advocacia-Geral da União            63000.0   \n",
       "3         63000.0                       NaN            63000.0   \n",
       "4         63000.0  Advocacia-Geral da União            63000.0   \n",
       "\n",
       "                           nombre_entidad_especifica  codigo_unidad_gestora  \\\n",
       "0  Advocacia-Geral da União - Unidades com víncul...               110060.0   \n",
       "1  Advocacia-Geral da União - Unidades com víncul...               110060.0   \n",
       "2  Advocacia-Geral da União - Unidades com víncul...               110060.0   \n",
       "3  Advocacia-Geral da União - Unidades com víncul...               110060.0   \n",
       "4  Advocacia-Geral da União - Unidades com víncul...               110060.0   \n",
       "\n",
       "                           nombre_unidad_gestora clasificacion_ingresos  \\\n",
       "0  COORD. GERAL DE ORC. FIN. E ANAL. CONT. - AGU     Receitas Correntes   \n",
       "1  COORD. GERAL DE ORC. FIN. E ANAL. CONT. - AGU     Receitas Correntes   \n",
       "2  COORD. GERAL DE ORC. FIN. E ANAL. CONT. - AGU     Receitas Correntes   \n",
       "3  COORD. GERAL DE ORC. FIN. E ANAL. CONT. - AGU     Receitas Correntes   \n",
       "4  COORD. GERAL DE ORC. FIN. E ANAL. CONT. - AGU     Receitas Correntes   \n",
       "\n",
       "              fuente_ingreso                                   tipo_ingreso  \\\n",
       "0  Outras Receitas Correntes  Bens, Direitos e Valores Incorporados ao Patr   \n",
       "1  Outras Receitas Correntes    Indenizações, restituições e ressarcimentos   \n",
       "2  Outras Receitas Correntes  Multas administrativas, contratuais e judicia   \n",
       "3  Outras Receitas Correntes  Bens, Direitos e Valores Incorporados ao Patr   \n",
       "4  Outras Receitas Correntes    Indenizações, restituições e ressarcimentos   \n",
       "\n",
       "                                 detalle_ingreso monto_previsto_actualizado  \\\n",
       "0  REC.DIVIDA ATIVA NAO TRIBUTARIA DE OUTRAS REC                       0,00   \n",
       "1   RECUPERACAO DE DESPESAS DE EXERC. ANTERIORES                       0,00   \n",
       "2                  OUTRAS MULTAS E JUROS DE MORA                       0,00   \n",
       "3      REC.DIV.ATIVA POR INFRAÇÃO ADMINISTRATIVA                       0,00   \n",
       "4                            OUTRAS RESTITUICOES                       0,00   \n",
       "\n",
       "  monto_lanzado monto_recaudado porcentaje_recaudado fecha_lanzamiento  \\\n",
       "0          0,00         1297,13                 0,00        2013-12-31   \n",
       "1          0,00     26666621,42                 0,00        2013-12-31   \n",
       "2          0,00       301251,13                 0,00        2013-12-31   \n",
       "3          0,00         1855,58                 0,00        2013-12-31   \n",
       "4          0,00        52140,68                 0,00        2013-12-31   \n",
       "\n",
       "   anio_ejercicio  \n",
       "0            2013  \n",
       "1            2013  \n",
       "2            2013  \n",
       "3            2013  \n",
       "4            2013  "
      ]
     },
     "execution_count": 7,
     "metadata": {},
     "output_type": "execute_result"
    }
   ],
   "source": [
    "#Cambiamos las columnas a castellano\n",
    "df_2013.rename(columns = cambio_nombre_columnas,inplace= True)\n",
    "\n",
    "#cambiamos nulos de año a año y cambiamos tipo a int\n",
    "df_2013[\"anio_ejercicio\"].fillna(2013, inplace = True)\n",
    "df_2013[\"anio_ejercicio\"] = df_2013[\"anio_ejercicio\"].astype(int)\n",
    "\n",
    "df_2013.head()"
   ]
  },
  {
   "cell_type": "code",
   "execution_count": 9,
   "metadata": {},
   "outputs": [
    {
     "data": {
      "text/plain": [
       "codigo_entidad\n",
       "False    4282\n",
       "True      216\n",
       "Name: count, dtype: int64"
      ]
     },
     "execution_count": 9,
     "metadata": {},
     "output_type": "execute_result"
    }
   ],
   "source": [
    "df_2013[\"codigo_entidad\"].isna().value_counts()"
   ]
  },
  {
   "cell_type": "code",
   "execution_count": 13,
   "metadata": {},
   "outputs": [],
   "source": [
    "df_2013[\"codigo_entidad\"].fillna(0, inplace = True)\n",
    "df_2013[\"codigo_entidad\"] = df_2013[\"codigo_entidad\"].astype(int)"
   ]
  },
  {
   "cell_type": "code",
   "execution_count": null,
   "metadata": {},
   "outputs": [],
   "source": [
    "dic_df = {}\n",
    "lista_anios = []\n",
    "for i in lista_archivos:\n",
    "    df = pd.read_csv(f\"../../datos{i}\", sep = \";\")\n",
    "\n",
    "    año = re.findall (r\"\\d{4}\", i)[0]\n",
    "    dic_df = [int(año)] = df\n",
    "    lista_anios.append(int(año))"
   ]
  }
 ],
 "metadata": {
  "kernelspec": {
   "display_name": "base",
   "language": "python",
   "name": "python3"
  },
  "language_info": {
   "codemirror_mode": {
    "name": "ipython",
    "version": 3
   },
   "file_extension": ".py",
   "mimetype": "text/x-python",
   "name": "python",
   "nbconvert_exporter": "python",
   "pygments_lexer": "ipython3",
   "version": "3.11.7"
  }
 },
 "nbformat": 4,
 "nbformat_minor": 2
}
