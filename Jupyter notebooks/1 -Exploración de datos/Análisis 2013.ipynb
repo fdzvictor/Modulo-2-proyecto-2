{
 "cells": [
  {
   "cell_type": "markdown",
   "metadata": {},
   "source": [
    "#Pasos seguidos:\n",
    "- Importado CSV de 2013, fecha de lanzamiento como variable \"fecha\"\n",
    "- Traducidas las variables\n",
    "- En \"Año de ejercicio\" se eliminan nulos y se convierten en el mismo año. Formato cambiado a int.\n",
    "- Los nulos en \"Código de entidad se han convertido en 0\n",
    "- Se han encontrado y eliminado 66 duplicados de todas las columnas\n",
    "- la entidad 2000 tiene grandes incongruecias entre monto previsto, lanzado y recaudado\n",
    "- Codigos de unidad gestora y específica se han trasladado a int, pues no hay evidencia que indique una trasposición de los datos\n"
   ]
  },
  {
   "cell_type": "code",
   "execution_count": 81,
   "metadata": {},
   "outputs": [],
   "source": [
    "import pandas as pd\n",
    "import sys\n",
    "import os\n",
    "\n",
    "import re"
   ]
  },
  {
   "cell_type": "code",
   "execution_count": null,
   "metadata": {},
   "outputs": [],
   "source": [
    "#Lista de todos los archivos\n",
    "lista_archivos = os.listdir(\"../../datos\")\n",
    "lista_anios = [] \n",
    "lista_dfs = []\n",
    "\n",
    "for i in range (9):\n",
    " lista_anios.append(lista_archivos[i].split(\"-\")[1].split(\".\")[0])\n",
    "\n",
    "for a in lista_anios:\n",
    " lista_dfs.append (\"df_\" + a)\n",
    "\n",
    "print (lista_dfs)\n",
    "\n",
    "dic_dfs = dict(zip(lista_dfs,lista_anios))\n"
   ]
  },
  {
   "cell_type": "code",
   "execution_count": null,
   "metadata": {},
   "outputs": [],
   "source": [
    "#Import\n",
    "df_2013 = pd.read_csv(\"../../datos\\datos-2013.csv\",delimiter = \";\",parse_dates = [\"DATA LANÇAMENTO\"])\n",
    "df_2014 = pd.read_csv(\"../../datos\\datos-2014.csv\",delimiter = \";\",parse_dates = [\"DATA LANÇAMENTO\"])\n",
    "df_2015 = pd.read_csv(\"../../datos\\datos-2015.csv\",delimiter = \";\",parse_dates = [\"DATA LANÇAMENTO\"])\n",
    "df_2016 = pd.read_csv(\"../../datos\\datos-2016.csv\",delimiter = \";\",parse_dates = [\"DATA LANÇAMENTO\"])\n",
    "df_2017 = pd.read_csv(\"../../datos\\datos-2017.csv\",delimiter = \";\",parse_dates = [\"DATA LANÇAMENTO\"])\n",
    "df_2018 = pd.read_csv(\"../../datos\\datos-2018.csv\",delimiter = \";\",parse_dates = [\"DATA LANÇAMENTO\"])\n",
    "df_2019 = pd.read_csv(\"../../datos\\datos-2019.csv\",delimiter = \";\",parse_dates = [\"DATA LANÇAMENTO\"])\n",
    "df_2020 = pd.read_csv(\"../../datos\\datos-2020.csv\",delimiter = \";\",parse_dates = [\"DATA LANÇAMENTO\"])\n",
    "df_2021 = pd.read_csv(\"../../datos\\datos-2021.csv\",delimiter = \";\",parse_dates = [\"DATA LANÇAMENTO\"])"
   ]
  },
  {
   "cell_type": "code",
   "execution_count": 84,
   "metadata": {},
   "outputs": [],
   "source": [
    "#cambiamos nulos de año a año y cambiamos tipo a int (A mordiscos porque no sé optimizarlo :)\n",
    "df_2013[\"ANO EXERCÍCIO\"].fillna(2013, inplace = True)\n",
    "df_2013[\"ANO EXERCÍCIO\"] = df_2013[\"ANO EXERCÍCIO\"].astype(int)\n",
    "#cambiamos nulos de año a año y cambiamos tipo a int\n",
    "df_2014[\"ANO EXERCÍCIO\"].fillna(2014, inplace = True)\n",
    "df_2014[\"ANO EXERCÍCIO\"] = df_2014[\"ANO EXERCÍCIO\"].astype(int)\n",
    "#cambiamos nulos de año a año y cambiamos tipo a int\n",
    "df_2015[\"ANO EXERCÍCIO\"].fillna(2015, inplace = True)\n",
    "df_2015[\"ANO EXERCÍCIO\"] = df_2015[\"ANO EXERCÍCIO\"].astype(int)\n",
    "#cambiamos nulos de año a año y cambiamos tipo a int\n",
    "df_2016[\"ANO EXERCÍCIO\"].fillna(2016, inplace = True)\n",
    "df_2016[\"ANO EXERCÍCIO\"] = df_2016[\"ANO EXERCÍCIO\"].astype(int)\n",
    "#cambiamos nulos de año a año y cambiamos tipo a int\n",
    "df_2017[\"ANO EXERCÍCIO\"].fillna(2017, inplace = True)\n",
    "df_2017[\"ANO EXERCÍCIO\"] = df_2017[\"ANO EXERCÍCIO\"].astype(int)\n",
    "#cambiamos nulos de año a año y cambiamos tipo a int\n",
    "df_2018[\"ANO EXERCÍCIO\"].fillna(2018, inplace = True)\n",
    "df_2018[\"ANO EXERCÍCIO\"] = df_2018[\"ANO EXERCÍCIO\"].astype(int)\n",
    "#cambiamos nulos de año a año y cambiamos tipo a int\n",
    "df_2019[\"ANO EXERCÍCIO\"].fillna(2019, inplace = True)\n",
    "df_2019[\"ANO EXERCÍCIO\"] = df_2019[\"ANO EXERCÍCIO\"].astype(int)\n",
    "#cambiamos nulos de año a año y cambiamos tipo a int\n",
    "df_2020[\"ANO EXERCÍCIO\"].fillna(2020, inplace = True)\n",
    "df_2020[\"ANO EXERCÍCIO\"] = df_2020[\"ANO EXERCÍCIO\"].astype(int)\n",
    "#cambiamos nulos de año a año y cambiamos tipo a int\n",
    "df_2021[\"ANO EXERCÍCIO\"].fillna(2021, inplace = True)\n",
    "df_2021[\"ANO EXERCÍCIO\"] = df_2021[\"ANO EXERCÍCIO\"].astype(int)"
   ]
  },
  {
   "cell_type": "code",
   "execution_count": 85,
   "metadata": {},
   "outputs": [],
   "source": [
    "#Concat\n",
    "df_concat = pd.concat([df_2013, df_2014, df_2015, df_2016, df_2017, df_2018, df_2019, df_2020, df_2021], axis=0, ignore_index = True)"
   ]
  },
  {
   "cell_type": "code",
   "execution_count": null,
   "metadata": {},
   "outputs": [],
   "source": [
    "#Columnas en minúscula\n",
    "nuevas_columnas = {i : i.lower() for i in df_concat.columns}\n",
    "df_concat.rename(nuevas_columnas, inplace= True, axis = 1) \n",
    "#Cambio de nombres columnas, se ha creado una función auxiliar\n",
    "cambio_nombre_columnas = {\n",
    "    'código órgão superior':'codigo_entidad',\n",
    "    'nome órgão superior':'nombre_entidad',\n",
    "    'código órgão':'codigo_especifica',\n",
    "    'nome órgão':'nombre_entidad_especifica',\n",
    "    'código unidade gestora':'codigo_unidad_gestora',\n",
    "    'nome unidade gestora':'nombre_unidad_gestora',\n",
    "    'categoria econômica':'clasificacion_ingresos',\n",
    "    'origem receita':'fuente_ingreso',\n",
    "    'espécie receita':'tipo_ingreso',\n",
    "    'detalhamento':'detalle_ingreso',\n",
    "    'valor previsto atualizado':'monto_previsto_actualizado',\n",
    "    'valor lançado':'monto_lanzado',\n",
    "    'valor realizado':'monto_recaudado',\n",
    "    'percentual realizado':'porcentaje_recaudado',\n",
    "    'data lançamento':'fecha_lanzamiento',\n",
    "    'ano exercício':'anio_ejercicio'\n",
    "}\n",
    "#Cambiamos las columnas a castellano\n",
    "df_concat.rename(columns = cambio_nombre_columnas,inplace= True)\n",
    "\n",
    "#cambiamos nulos de año a año y cambiamos tipo a int\n",
    "# df_concat[\"anio_ejercicio\"].fillna(2013, inplace = True)\n",
    "# df_concat[\"anio_ejercicio\"] = df_concat[\"anio_ejercicio\"].astype(int)\n",
    "\n",
    "df_concat.head()\n",
    "\n",
    "#Cambio de nulos en código de entidad\n",
    "# df_concat[\"codigo_entidad\"].fillna(0, inplace = True)\n",
    "# df_concat[\"codigo_entidad\"] = df_concat[\"codigo_entidad\"].astype(int)\n",
    "\n",
    "df_concat.drop_duplicates()"
   ]
  },
  {
   "cell_type": "code",
   "execution_count": 87,
   "metadata": {},
   "outputs": [],
   "source": [
    "# #Loop para automatizarlo todo\n",
    "# dic_df = {}\n",
    "# lista_anios = []\n",
    "# for i in lista_archivos:\n",
    "#     df = pd.read_csv(f\"../../datos{i}\", delimiter = \";\",parse_dates =[\"DATA LANÇAMENTO\"])\n",
    "\n",
    "#     año = re.findall (r\"\\d{4}\", i)[0]\n",
    "#     dic_df = [int(año)] = f\"\"\n",
    "#     lista_anios.append(int(año))"
   ]
  },
  {
   "cell_type": "code",
   "execution_count": 88,
   "metadata": {},
   "outputs": [],
   "source": [
    "# #vemos que el 98% de los montos previstos de la entidad 20000 son 0, mientras que sólo un 2% de los montos recaudados son 0. El 99% del porcentaje recaudado es 0.\n",
    "# filtro_ent20000 = df_concat[\"codigo_entidad\"] == 20000\n",
    "# df_concat.groupby(filtro_ent20000)[[\"monto_previsto_actualizado\"]].value_counts(normalize = True)\n",
    "# df_concat.groupby(filtro_ent20000)[[\"monto_recaudado\"]].value_counts(normalize = True)\n",
    "# df_concat.groupby(filtro_ent20000)[[\"porcentaje_recaudado\"]].value_counts(normalize = True)"
   ]
  },
  {
   "cell_type": "markdown",
   "metadata": {},
   "source": [
    "pasar codigos entidad a int\n",
    "rellenar datos de entidades según el código y viceversa\n",
    "Corrupcion = monto lanzado(registrado) =! monto_recaudado\n",
    "ver que orgs son mas corruptas\n",
    "usar el porcentaje para añadir valores a monto recaudado y viceversa\n",
    "hay porcentajes que son mucho más del 100%, qué pasa ahí\n",
    "En monto lanzado hay negativos (?)\n"
   ]
  },
  {
   "cell_type": "code",
   "execution_count": null,
   "metadata": {},
   "outputs": [],
   "source": [
    "#Sacamos valores unicos para renombrar\n",
    "cols1y2 = df_concat [[\"codigo_entidad\",\"nombre_entidad\"]].drop_duplicates().dropna()          \n",
    "cols1y2.to_dict('index')\n",
    "cols1y2\n"
   ]
  },
  {
   "cell_type": "code",
   "execution_count": 93,
   "metadata": {},
   "outputs": [
    {
     "ename": "TypeError",
     "evalue": "'int' object is not subscriptable",
     "output_type": "error",
     "traceback": [
      "\u001b[1;31m---------------------------------------------------------------------------\u001b[0m",
      "\u001b[1;31mTypeError\u001b[0m                                 Traceback (most recent call last)",
      "Cell \u001b[1;32mIn[93], line 2\u001b[0m\n\u001b[0;32m      1\u001b[0m \u001b[38;5;28;01mfor\u001b[39;00m cod, nom \u001b[38;5;129;01min\u001b[39;00m df_concat\u001b[38;5;241m.\u001b[39miterrows():\n\u001b[1;32m----> 2\u001b[0m     key \u001b[38;5;241m=\u001b[39m cod[\u001b[38;5;124m\"\u001b[39m\u001b[38;5;124mcodigo_entidad\u001b[39m\u001b[38;5;124m\"\u001b[39m]  \u001b[38;5;66;03m# Extraer la clave de la fila actual\u001b[39;00m\n\u001b[0;32m      3\u001b[0m     \u001b[38;5;28;01mif\u001b[39;00m key \u001b[38;5;129;01min\u001b[39;00m cols1y2:  \u001b[38;5;66;03m# Comprobar si la clave está en el diccionario\u001b[39;00m\n\u001b[0;32m      4\u001b[0m         \u001b[38;5;28;01mfor\u001b[39;00m col \u001b[38;5;129;01min\u001b[39;00m cols1y2[key]:  \u001b[38;5;66;03m# Iterar sobre las columnas para reemplazar\u001b[39;00m\n",
      "\u001b[1;31mTypeError\u001b[0m: 'int' object is not subscriptable"
     ]
    }
   ],
   "source": [
    "\n",
    "for cod, nom in df_concat.iterrows():\n",
    "    key = cod[\"codigo_entidad\"]  # Extraer la clave de la fila actual\n",
    "    if key in cols1y2:  # Comprobar si la clave está en el diccionario\n",
    "        for col in cols1y2[key]:  # Iterar sobre las columnas para reemplazar\n",
    "            if pd.isna(cod[col]):  # Solo reemplazar si el valor es NaN\n",
    "                df_concat.at[cod, col] = cols1y2[key][col]"
   ]
  },
  {
   "cell_type": "code",
   "execution_count": null,
   "metadata": {},
   "outputs": [],
   "source": [
    "df_concat"
   ]
  },
  {
   "cell_type": "markdown",
   "metadata": {},
   "source": [
    "Porcentaje recaudado tiene u 50% de ceros, para un futuro, codigo de ud gestora y de organo\n"
   ]
  },
  {
   "cell_type": "code",
   "execution_count": 91,
   "metadata": {},
   "outputs": [],
   "source": [
    "# df_concat.columns\n",
    "\n",
    "\n",
    "# df_concat[\"anio_ejercicio\"].fillna(2013, inplace = True)\n",
    "# df_concat[\"anio_ejercicio\"] = df_concat[\"anio_ejercicio\"].astype(int)"
   ]
  }
 ],
 "metadata": {
  "kernelspec": {
   "display_name": "base",
   "language": "python",
   "name": "python3"
  },
  "language_info": {
   "codemirror_mode": {
    "name": "ipython",
    "version": 3
   },
   "file_extension": ".py",
   "mimetype": "text/x-python",
   "name": "python",
   "nbconvert_exporter": "python",
   "pygments_lexer": "ipython3",
   "version": "3.11.7"
  }
 },
 "nbformat": 4,
 "nbformat_minor": 2
}
